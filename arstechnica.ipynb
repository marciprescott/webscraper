{
 "cells": [
  {
   "cell_type": "code",
   "execution_count": 4,
   "id": "3fe77956-7f5f-4b14-96dd-7acf42991b45",
   "metadata": {},
   "outputs": [],
   "source": [
    "from bs4 import BeautifulSoup\n",
    "import pandas\n",
    "import requests\n",
    "\n",
    "headers = {\n",
    "    \"Access-Control-Allow-Origin\": \"*\",\n",
    "    \"Access-Control-Allow-Methods\": \"GET\",\n",
    "    \"Access-Control-Allow-Headers\": \"Content-Type\",\n",
    "    \"Access-Control-Max-Age\": \"3600\",\n",
    "    \"User-Agent\": \"Mozilla/5.0 (X11; Ubuntu; Linux x86_64; rv:52.0) Gecko/20100101 Firefox/52.0\",\n",
    "}\n",
    "\n",
    "url = \"https://arstechnica.com/gadgets/\"\n",
    "req = requests.get(url, headers)\n",
    "soup = BeautifulSoup(req.content, \"html.parser\")\n",
    "excerpts = soup.find_all(\"p\", class_=\"excerpt\")\n",
    "def print_headlines():\n",
    "    for excerpt in excerpts:\n",
    "        print(excerpt.text)\n",
    "\n"
   ]
  },
  {
   "cell_type": "code",
   "execution_count": 7,
   "id": "7659182a-6189-4614-ac1a-c8fa4c28d150",
   "metadata": {},
   "outputs": [
    {
     "name": "stdout",
     "output_type": "stream",
     "text": [
      "Microsoft's involvement in IBM's OS/2 project ended before v2.0 was released.\n",
      "Gemini is opting out of election-related responses entirely for 2024. \n",
      "Data from multiple Copilot devices could be used for road safety improvements.\n",
      "New apps reportedly make median monthly revenue of less than $50. \n",
      "The 2024 Moto G starts arriving at the end of March at most budget carriers. \n",
      "Op-ed: The iPad needs more than a simple hardware refresh to fix what ails it.\n",
      "In development for some time, AirPods could finally get the FDA label this fall.\n",
      "Indoor cameras had been permitted in \"common areas.\" \n",
      "Bad radio propagation means Googlers are making do with Ethernet cables, phone hotspots.\n",
      "For the M2 Air, getting better storage speeds required a 512GB (or larger) SSD.\n",
      "Local competition, surge of BEVs, and security-related restrictions lead to changes.\n",
      "120 Hz is good enough for consoles, but not for FreeSync. \n",
      "\n",
      "Gemini Nano can't run on the smaller Pixel 8 due to mysterious \"hardware limitations.\"\n",
      "Apple starts picking low-hanging fruit in visionOS; other OSes see minor improvements.\n",
      "Users are opted in automatically unless they write a letter to Roku by March 21. \n",
      "Nikon wants to \"accelerate expansion\" into the pro digital camera market.\n",
      "For Intel or even M1 upgraders, there’s a lot to like about the M3 Air. \n",
      "QD-OLED or classic WOLED? Samsung reportedly won't tell. \n",
      "Sanctions crushed Huawei for a time, but new Counterpoint data says Huawei is back.\n",
      "WBD looking for ways to grow newfound streaming business profitability. \n",
      "Ranking update targets sites \"created for search engines instead of people.\"\n",
      "Amazon's inferior selection of Android apps meant WSA was never very useful.\n",
      "With limited US carrier support, though, it's mostly international-only. \n",
      "Report: Linux was on 6.34 percent of computers last month if you count ChromeOS.\n",
      "Researchers herald new system as key step to an \"infinite generator\" of training data.\n",
      "Governor's signature would stop software locks from impairing replacement parts.\n",
      "You'll need to have the lid closed, but it's a welcome upgrade over the M1/M2.\n",
      "Parked apps include browsers, games, and video apps. \n",
      "M2 Air is the new $999 base model, M1 Air goes away after more than 3 years.\n",
      "The biggest problem is meetings, as Personas are a bit of a letdown.\n",
      "Investors Microsoft, OpenAI, Nvidia, Jeff Bezos, and Intel value Figure at $2.6B.\n",
      "Alternative browsers can pin web apps, but they only run inside Apple's WebKit.\n",
      "\"Never own a printer again.\" \n",
      "Linux users can't hit the same resolutions and speeds as Windows—or DisplayPort.\n",
      "Grab bag of updates is mostly available now, rolls out automatically in April.\n",
      "Both foldables should be announced in July sometime. \n"
     ]
    }
   ],
   "source": [
    "print_headlines()\n",
    "\n"
   ]
  },
  {
   "cell_type": "code",
   "execution_count": null,
   "id": "99f05f6d-34c7-428a-8175-7b004db11610",
   "metadata": {},
   "outputs": [],
   "source": []
  }
 ],
 "metadata": {
  "kernelspec": {
   "display_name": "Python 3 (ipykernel)",
   "language": "python",
   "name": "python3"
  },
  "language_info": {
   "codemirror_mode": {
    "name": "ipython",
    "version": 3
   },
   "file_extension": ".py",
   "mimetype": "text/x-python",
   "name": "python",
   "nbconvert_exporter": "python",
   "pygments_lexer": "ipython3",
   "version": "3.11.5"
  }
 },
 "nbformat": 4,
 "nbformat_minor": 5
}
